{
 "cells": [
  {
   "cell_type": "markdown",
   "id": "bc1d7980-3b3d-49d5-997e-ee2b1445cee2",
   "metadata": {},
   "source": [
    "### NUMPY PIL"
   ]
  },
  {
   "cell_type": "code",
   "execution_count": null,
   "id": "e648bb59-c7f9-42fb-95df-fc1757a95e1c",
   "metadata": {},
   "outputs": [],
   "source": [
    "import numpy as np"
   ]
  },
  {
   "cell_type": "code",
   "execution_count": null,
   "id": "be03f2ec-0c99-4b7d-8ebc-1f88bccc150d",
   "metadata": {},
   "outputs": [],
   "source": [
    "ones_arr = np.ones((3,3))"
   ]
  },
  {
   "cell_type": "code",
   "execution_count": null,
   "id": "4c2eedcd-5346-4256-b987-d11cd600b1c4",
   "metadata": {},
   "outputs": [],
   "source": [
    "ones_arr"
   ]
  },
  {
   "cell_type": "code",
   "execution_count": null,
   "id": "d02221da-41a7-4c21-be3a-d29dcf1cbb4b",
   "metadata": {},
   "outputs": [],
   "source": [
    "ones_arr = np.ones((5,5),dtype=int)"
   ]
  },
  {
   "cell_type": "code",
   "execution_count": null,
   "id": "8a3f03b4-c5e7-4b64-9b87-0ded11e777a1",
   "metadata": {},
   "outputs": [],
   "source": [
    "ones_arr"
   ]
  },
  {
   "cell_type": "code",
   "execution_count": null,
   "id": "7aaf1f22-ae4e-4339-a32e-7fa38de3518a",
   "metadata": {},
   "outputs": [],
   "source": [
    "ones_arr * 255"
   ]
  },
  {
   "cell_type": "code",
   "execution_count": null,
   "id": "1ca5c57f-b033-43c1-b0bb-4ee8a6892fed",
   "metadata": {},
   "outputs": [],
   "source": [
    "ones_arr"
   ]
  },
  {
   "cell_type": "code",
   "execution_count": null,
   "id": "6b637556-e668-481c-9cbb-0e894ec1091a",
   "metadata": {},
   "outputs": [],
   "source": [
    "import matplotlib.pyplot as plt"
   ]
  },
  {
   "cell_type": "code",
   "execution_count": null,
   "id": "5fbc23bc-2803-4d2b-a5c2-997ac9d98b83",
   "metadata": {},
   "outputs": [],
   "source": [
    "%matplotlib inline"
   ]
  },
  {
   "cell_type": "code",
   "execution_count": null,
   "id": "b8e32e2b-2b3c-4abc-ab8e-856aba700d42",
   "metadata": {},
   "outputs": [],
   "source": [
    "from PIL import Image # python imaging library "
   ]
  },
  {
   "cell_type": "code",
   "execution_count": null,
   "id": "9f832279-5b5d-4433-828d-248e02eed503",
   "metadata": {},
   "outputs": [],
   "source": [
    "horse_img = Image.open(r'C:\\Users\\HP\\Pictures\\SavedPictures\\horse1.jpg') "
   ]
  },
  {
   "cell_type": "code",
   "execution_count": null,
   "id": "1484722c-1d11-41f1-9bac-4cbc4d0ae6b4",
   "metadata": {},
   "outputs": [],
   "source": [
    "horse_img"
   ]
  },
  {
   "cell_type": "code",
   "execution_count": null,
   "id": "63ecf116-d73f-4487-aaa4-3dec6bcb1102",
   "metadata": {},
   "outputs": [],
   "source": [
    "type(horse_img)"
   ]
  },
  {
   "cell_type": "code",
   "execution_count": null,
   "id": "e0ff58f8-f647-42c1-aa05-a0c2da8e7634",
   "metadata": {},
   "outputs": [],
   "source": [
    "horse_arr = np.asarray(horse_img)\n",
    "horse_arr"
   ]
  },
  {
   "cell_type": "code",
   "execution_count": null,
   "id": "498f21a9-1624-4aed-8596-efc210242321",
   "metadata": {},
   "outputs": [],
   "source": [
    "type(horse_arr)"
   ]
  },
  {
   "cell_type": "code",
   "execution_count": null,
   "id": "25279b93-7856-4509-9fd4-f3f4a4e61d2b",
   "metadata": {},
   "outputs": [],
   "source": [
    "plt.imshow(horse_arr)\n",
    "plt.show()\n"
   ]
  },
  {
   "cell_type": "code",
   "execution_count": null,
   "id": "78cd08d9-3f8a-42a7-84fa-b68328b0d698",
   "metadata": {},
   "outputs": [],
   "source": [
    "horse_arr.shape"
   ]
  },
  {
   "cell_type": "code",
   "execution_count": null,
   "id": "fc442bf2-72c7-40d4-9973-9aa00e900b08",
   "metadata": {},
   "outputs": [],
   "source": [
    "horse_red = horse_arr.copy()"
   ]
  },
  {
   "cell_type": "code",
   "execution_count": null,
   "id": "27e1e591-f590-47b9-a217-75850af15f98",
   "metadata": {},
   "outputs": [],
   "source": [
    "horse_red"
   ]
  },
  {
   "cell_type": "code",
   "execution_count": null,
   "id": "a7bd1b2a-0b3c-4caa-a1e9-e4b60f3411ec",
   "metadata": {},
   "outputs": [],
   "source": [
    "horse_arr == horse_red"
   ]
  },
  {
   "cell_type": "code",
   "execution_count": null,
   "id": "39780819-3092-4e3f-af49-237cd353de28",
   "metadata": {},
   "outputs": [],
   "source": [
    "plt.imshow(horse_red)\n",
    "plt.show()"
   ]
  },
  {
   "cell_type": "code",
   "execution_count": null,
   "id": "0df12bd4-302f-4f43-940a-5a9098bb8cd6",
   "metadata": {},
   "outputs": [],
   "source": [
    "horse_red.shape"
   ]
  },
  {
   "cell_type": "code",
   "execution_count": null,
   "id": "340734df-0d44-4723-a754-4864f262b8c1",
   "metadata": {},
   "outputs": [],
   "source": [
    "# R G B\n",
    "\n",
    "plt.imshow(horse_red[:,:,0])\n",
    "plt.show()"
   ]
  },
  {
   "cell_type": "code",
   "execution_count": null,
   "id": "051fa587-6d90-4584-a1af-e8641a859a8b",
   "metadata": {},
   "outputs": [],
   "source": [
    "horse_red[:,:,0]"
   ]
  },
  {
   "cell_type": "code",
   "execution_count": null,
   "id": "03052020-ee33-416d-91ea-ff43ca06751f",
   "metadata": {},
   "outputs": [],
   "source": [
    "plt.imshow(horse_red[:,:,0], cmap='Greys')\n",
    "plt.show()"
   ]
  },
  {
   "cell_type": "code",
   "execution_count": null,
   "id": "a1d60997-c136-4bea-b047-99e9642de7c3",
   "metadata": {},
   "outputs": [],
   "source": [
    "plt.imshow(horse_red[:,:,1], cmap='grey')\n",
    "plt.show()"
   ]
  },
  {
   "cell_type": "code",
   "execution_count": null,
   "id": "a2e68075-c495-4fdc-89fe-cc5851e7b60e",
   "metadata": {},
   "outputs": [],
   "source": [
    "plt.imshow(horse_red[:,:,1], cmap='YlGn')\n",
    "plt.show()"
   ]
  },
  {
   "cell_type": "code",
   "execution_count": null,
   "id": "46595995-1b40-4ec4-834d-d8a8ac64a591",
   "metadata": {},
   "outputs": [],
   "source": [
    "horse_red[:,:,0]"
   ]
  },
  {
   "cell_type": "code",
   "execution_count": null,
   "id": "9318e7ff-b127-4f01-8e2e-9a3056125d19",
   "metadata": {},
   "outputs": [],
   "source": [
    "horse_red[:,:,1]"
   ]
  },
  {
   "cell_type": "code",
   "execution_count": null,
   "id": "f6e82932-ac11-48ec-9bba-70a9215fd161",
   "metadata": {},
   "outputs": [],
   "source": [
    "horse_red[:,:,2]"
   ]
  },
  {
   "cell_type": "code",
   "execution_count": null,
   "id": "9d431997-a278-4365-a6e4-a4ec7ff7ae46",
   "metadata": {},
   "outputs": [],
   "source": [
    "horse_red[:,:,1] = 0\n"
   ]
  },
  {
   "cell_type": "code",
   "execution_count": null,
   "id": "290317f2-2945-4cb8-8fba-87cc6f024b41",
   "metadata": {},
   "outputs": [],
   "source": []
  },
  {
   "cell_type": "code",
   "execution_count": null,
   "id": "a101fa94-bae4-45bc-800b-2ab961c2765b",
   "metadata": {},
   "outputs": [],
   "source": [
    "horse_red[:,:,1]"
   ]
  },
  {
   "cell_type": "code",
   "execution_count": null,
   "id": "70180989-3d01-4fc8-83d6-8f067d34bcb6",
   "metadata": {},
   "outputs": [],
   "source": [
    "plt.imshow(horse_red)\n",
    "plt.show()"
   ]
  },
  {
   "cell_type": "code",
   "execution_count": null,
   "id": "074221a0-1a9b-4742-b67e-ee55ac32eeaf",
   "metadata": {},
   "outputs": [],
   "source": [
    "horse_red[:,:,2] "
   ]
  },
  {
   "cell_type": "code",
   "execution_count": null,
   "id": "877da22d-b2b8-4b20-b0e9-63549caca634",
   "metadata": {},
   "outputs": [],
   "source": [
    "horse_red[:,:,2]  = 0"
   ]
  },
  {
   "cell_type": "code",
   "execution_count": null,
   "id": "c9afbc12-1d08-4bbd-98ea-957bc757041f",
   "metadata": {},
   "outputs": [],
   "source": [
    "horse_red[:,:,2] "
   ]
  },
  {
   "cell_type": "code",
   "execution_count": null,
   "id": "5181fa52-6659-4cc8-8b5a-de6546817e19",
   "metadata": {},
   "outputs": [],
   "source": [
    "plt.imshow(horse_red)\n",
    "plt.show()"
   ]
  },
  {
   "cell_type": "code",
   "execution_count": null,
   "id": "172a8d9c-9365-43b2-aa13-d8859757815c",
   "metadata": {},
   "outputs": [],
   "source": [
    "horse_arr"
   ]
  },
  {
   "cell_type": "code",
   "execution_count": null,
   "id": "d36a02c5-e3f3-413c-97b1-5c0bcb8e68b7",
   "metadata": {},
   "outputs": [],
   "source": [
    "horse_red"
   ]
  },
  {
   "cell_type": "code",
   "execution_count": null,
   "id": "6a3f7646-d56e-4ac0-bd4d-9d862a8dcf9a",
   "metadata": {},
   "outputs": [],
   "source": [
    "horse_img"
   ]
  },
  {
   "cell_type": "code",
   "execution_count": null,
   "id": "e56a7399-280e-474c-91f4-f1392b4b6f83",
   "metadata": {},
   "outputs": [],
   "source": [
    "arr1 = np.asarray(horse_img)"
   ]
  },
  {
   "cell_type": "code",
   "execution_count": null,
   "id": "d359e349-0452-45dd-9753-7715b38f2cc3",
   "metadata": {},
   "outputs": [],
   "source": [
    "type(arr1)"
   ]
  },
  {
   "cell_type": "code",
   "execution_count": null,
   "id": "3e7be95c-7e1e-40bd-a14d-8fef3a4e9ced",
   "metadata": {},
   "outputs": [],
   "source": [
    "arr1.shape"
   ]
  },
  {
   "cell_type": "code",
   "execution_count": null,
   "id": "856d4e39-344a-4563-a5b1-d483246f0ca0",
   "metadata": {},
   "outputs": [],
   "source": [
    "plt.imshow(arr1)\n",
    "plt.show()"
   ]
  },
  {
   "cell_type": "code",
   "execution_count": null,
   "id": "7ebc2c85-1e88-49a7-81e0-6e53ee75acab",
   "metadata": {},
   "outputs": [],
   "source": [
    "horse_img1 = arr1.copy()"
   ]
  },
  {
   "cell_type": "code",
   "execution_count": null,
   "id": "9805dde4-05f9-4825-a724-d679e2512abf",
   "metadata": {},
   "outputs": [],
   "source": [
    "horse_img1[:,:,0] = 0"
   ]
  },
  {
   "cell_type": "code",
   "execution_count": null,
   "id": "0acd8390-42c3-44ea-adfc-dfacc5e553ef",
   "metadata": {},
   "outputs": [],
   "source": [
    "plt.imshow(horse_img1)\n",
    "plt.show()"
   ]
  },
  {
   "cell_type": "code",
   "execution_count": null,
   "id": "b33fcdd5-5947-480a-9135-22876236ccc5",
   "metadata": {},
   "outputs": [],
   "source": [
    "horse_img1[:,:,1]"
   ]
  },
  {
   "cell_type": "code",
   "execution_count": null,
   "id": "fa93c535-94b7-4b3d-a213-c1344fd2c991",
   "metadata": {},
   "outputs": [],
   "source": [
    "horse_img1[:,:,1] = 0"
   ]
  },
  {
   "cell_type": "code",
   "execution_count": null,
   "id": "b6aeab09-c1be-4940-aef9-ac783b4b31f1",
   "metadata": {},
   "outputs": [],
   "source": [
    "plt.imshow(horse_img1)\n",
    "plt.show()"
   ]
  },
  {
   "cell_type": "code",
   "execution_count": null,
   "id": "68c55403-fe10-40c6-9e8f-24bca843945e",
   "metadata": {},
   "outputs": [],
   "source": []
  }
 ],
 "metadata": {
  "kernelspec": {
   "display_name": "Python [conda env:base] *",
   "language": "python",
   "name": "conda-base-py"
  },
  "language_info": {
   "codemirror_mode": {
    "name": "ipython",
    "version": 3
   },
   "file_extension": ".py",
   "mimetype": "text/x-python",
   "name": "python",
   "nbconvert_exporter": "python",
   "pygments_lexer": "ipython3",
   "version": "3.12.7"
  }
 },
 "nbformat": 4,
 "nbformat_minor": 5
}
